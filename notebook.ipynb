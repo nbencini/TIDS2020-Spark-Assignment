{
 "cells": [
  {
   "cell_type": "markdown",
   "metadata": {
    "id": "mohgBkm-d-st"
   },
   "source": [
    "# Data Analytics Challenge with Apache Spark\n",
    "\n",
    "The objective of this challenge is to analyze using Apache Spark a data set containing the results of an experiment involving three algorithms.\n",
    "\n",
    "The data set contains the results of three different algorithms (Model, CBC and NEWCBC) applied to instances characterized by 4 features (F1-F4). Each experiment was repeated 10 times (Rep, but notice that in 2 cases we only made one repetition) generating randomly the instances. It is important to note that the F3 feature is actually a range of values and at each repetition a new value is randomly generated within the range. For this reason, instances belonging to the same group can have distinct F3 values.\n",
    "\n",
    "In addition:\n",
    "1. *MODEL_OF* represents the value of the objective function obtained by the algorithm M\n",
    "2. *MODEL_TIME* represents the time spent by the algorithm M\n",
    "3. *CBC_OF* represents the value of the objective function obtained by the CBC algorithm\n",
    "4. *CBC_TIME* represents the time spent by the CBC algorithm\n",
    "5. *CBC_FC* represents the number of FC-type actions executed by the CBC algorithm\n",
    "6. *CBC_PC* represents the number of PC-type actions executed by the CBC algorithm\n",
    "7. *NEWCBC_OF* represents the value of the objective function obtained by the NEWCBC algorithm\n",
    "8. *NEWCBC_TIME* represents the time spent by the NEWCBC algorithm\n",
    "9. *NEWCBC_FC* represents the number of FC-type actions executed by the NEWCBC algorithm"
   ]
  },
  {
   "cell_type": "code",
   "execution_count": 4,
   "metadata": {},
   "outputs": [
    {
     "name": "stdout",
     "output_type": "stream",
     "text": [
      "Collecting koalas\n",
      "  Using cached koalas-1.4.0-py3-none-any.whl (769 kB)\n",
      "Requirement already satisfied: matplotlib>=3.0.0 in /opt/conda/lib/python3.8/site-packages (from koalas) (3.3.2)\n",
      "Requirement already satisfied: pandas>=0.23.2 in /opt/conda/lib/python3.8/site-packages (from koalas) (1.1.4)\n",
      "Requirement already satisfied: pyarrow>=0.10 in /opt/conda/lib/python3.8/site-packages (from koalas) (2.0.0)\n",
      "Requirement already satisfied: numpy>=1.14 in /opt/conda/lib/python3.8/site-packages (from koalas) (1.19.4)\n",
      "Requirement already satisfied: certifi>=2020.06.20 in /opt/conda/lib/python3.8/site-packages (from matplotlib>=3.0.0->koalas) (2020.6.20)\n",
      "Requirement already satisfied: pyparsing!=2.0.4,!=2.1.2,!=2.1.6,>=2.0.3 in /opt/conda/lib/python3.8/site-packages (from matplotlib>=3.0.0->koalas) (2.4.7)\n",
      "Requirement already satisfied: kiwisolver>=1.0.1 in /opt/conda/lib/python3.8/site-packages (from matplotlib>=3.0.0->koalas) (1.3.1)\n",
      "Requirement already satisfied: python-dateutil>=2.1 in /opt/conda/lib/python3.8/site-packages (from matplotlib>=3.0.0->koalas) (2.8.1)\n",
      "Requirement already satisfied: pillow>=6.2.0 in /opt/conda/lib/python3.8/site-packages (from matplotlib>=3.0.0->koalas) (8.0.1)\n",
      "Requirement already satisfied: cycler>=0.10 in /opt/conda/lib/python3.8/site-packages (from matplotlib>=3.0.0->koalas) (0.10.0)\n",
      "Requirement already satisfied: pytz>=2017.2 in /opt/conda/lib/python3.8/site-packages (from pandas>=0.23.2->koalas) (2020.4)\n",
      "Requirement already satisfied: six>=1.5 in /opt/conda/lib/python3.8/site-packages (from python-dateutil>=2.1->matplotlib>=3.0.0->koalas) (1.15.0)\n",
      "Installing collected packages: koalas\n",
      "Successfully installed koalas-1.4.0\n"
     ]
    }
   ],
   "source": [
    "!pip install koalas"
   ]
  },
  {
   "cell_type": "code",
   "execution_count": 12,
   "metadata": {
    "id": "9_Uz1NL4gHFx"
   },
   "outputs": [],
   "source": [
    "import warnings\n",
    "warnings.simplefilter(action='ignore', category=FutureWarning)\n",
    "\n",
    "from pyspark.sql import SparkSession\n",
    "import pandas as pd\n",
    "import databricks.koalas as ks\n",
    "import matplotlib.pyplot as plt\n",
    "import seaborn as sns\n",
    "import numpy as np\n",
    "sns.set_theme()\n",
    "%matplotlib inline\n",
    "\n",
    "spark = SparkSession.builder \\\n",
    "        .master(\"local[*]\") \\\n",
    "        .getOrCreate()"
   ]
  },
  {
   "cell_type": "markdown",
   "metadata": {
    "id": "ZepZD1IijTFv"
   },
   "source": [
    "First of all, let's import the dataset files into a Koalas Dataframe. After that, we check if the schema of the Dataframe we just created is correct."
   ]
  },
  {
   "cell_type": "code",
   "execution_count": 6,
   "metadata": {
    "id": "0ZeJ7WQCgM8g"
   },
   "outputs": [],
   "source": [
    "df = ks.read_excel('data/risultati_A_zaini_piccoli_9-11.xlsx')\n",
    "df = df.append(ks.read_excel('data/risultati_B_piccole_45-55_1big_knapsack.xlsx'))\n",
    "df = df.append(ks.read_excel('data/risultati_C_piccole_45-55.xlsx'))\n",
    "df = df.append(ks.read_excel('data/risultati_D_con_piu_zaini.xlsx'))\n",
    "df = df.append(ks.read_excel('data/risultati_E_con_piu_items.xlsx'))\n",
    "df = df.append(ks.read_excel('data/risultati_F_zaini_piccoli_27-33.xlsx'))"
   ]
  },
  {
   "cell_type": "code",
   "execution_count": 17,
   "metadata": {},
   "outputs": [
    {
     "name": "stdout",
     "output_type": "stream",
     "text": [
      "root\n",
      " |-- F1: long (nullable = false)\n",
      " |-- F2: long (nullable = false)\n",
      " |-- F3: long (nullable = false)\n",
      " |-- F4: string (nullable = false)\n",
      " |-- Rep: long (nullable = false)\n",
      " |-- MODEL_OF: long (nullable = false)\n",
      " |-- MODEL_OFUB: long (nullable = false)\n",
      " |-- MODEL_TIME: double (nullable = false)\n",
      " |-- CBC_OF: long (nullable = false)\n",
      " |-- CBC_TIME: double (nullable = false)\n",
      " |-- CBC_FC: long (nullable = false)\n",
      " |-- CBC_PC: long (nullable = false)\n",
      " |-- NEWCBC_OF: long (nullable = false)\n",
      " |-- NEWCBC_TIME: double (nullable = false)\n",
      " |-- NEWCBC_FC: long (nullable = false)\n",
      "\n"
     ]
    }
   ],
   "source": [
    "df.spark.print_schema()"
   ]
  },
  {
   "cell_type": "markdown",
   "metadata": {},
   "source": [
    "## Descriptive statistics"
   ]
  },
  {
   "cell_type": "code",
   "execution_count": 7,
   "metadata": {
    "colab": {
     "base_uri": "https://localhost:8080/"
    },
    "id": "Gok1FXWugYkE",
    "outputId": "80292fce-088c-4b40-a231-216195189432"
   },
   "outputs": [
    {
     "data": {
      "text/html": [
       "<div>\n",
       "<style scoped>\n",
       "    .dataframe tbody tr th:only-of-type {\n",
       "        vertical-align: middle;\n",
       "    }\n",
       "\n",
       "    .dataframe tbody tr th {\n",
       "        vertical-align: top;\n",
       "    }\n",
       "\n",
       "    .dataframe thead th {\n",
       "        text-align: right;\n",
       "    }\n",
       "</style>\n",
       "<table border=\"1\" class=\"dataframe\">\n",
       "  <thead>\n",
       "    <tr style=\"text-align: right;\">\n",
       "      <th></th>\n",
       "      <th>F1</th>\n",
       "      <th>F2</th>\n",
       "      <th>F3</th>\n",
       "      <th>Rep</th>\n",
       "      <th>MODEL_OF</th>\n",
       "      <th>MODEL_OFUB</th>\n",
       "      <th>MODEL_TIME</th>\n",
       "      <th>CBC_OF</th>\n",
       "      <th>CBC_TIME</th>\n",
       "      <th>CBC_FC</th>\n",
       "      <th>CBC_PC</th>\n",
       "      <th>NEWCBC_OF</th>\n",
       "      <th>NEWCBC_TIME</th>\n",
       "      <th>NEWCBC_FC</th>\n",
       "    </tr>\n",
       "  </thead>\n",
       "  <tbody>\n",
       "    <tr>\n",
       "      <th>count</th>\n",
       "      <td>400.000000</td>\n",
       "      <td>400.000000</td>\n",
       "      <td>400.000000</td>\n",
       "      <td>400.000000</td>\n",
       "      <td>400.000000</td>\n",
       "      <td>400.000000</td>\n",
       "      <td>400.000000</td>\n",
       "      <td>400.000000</td>\n",
       "      <td>400.000000</td>\n",
       "      <td>400.000000</td>\n",
       "      <td>400.000000</td>\n",
       "      <td>400.000000</td>\n",
       "      <td>400.000000</td>\n",
       "      <td>400.0</td>\n",
       "    </tr>\n",
       "    <tr>\n",
       "      <th>mean</th>\n",
       "      <td>6.775000</td>\n",
       "      <td>525.000000</td>\n",
       "      <td>9.567500</td>\n",
       "      <td>5.050000</td>\n",
       "      <td>281.907500</td>\n",
       "      <td>284.177500</td>\n",
       "      <td>293.390935</td>\n",
       "      <td>281.862500</td>\n",
       "      <td>254.806183</td>\n",
       "      <td>0.082500</td>\n",
       "      <td>9.747500</td>\n",
       "      <td>281.810000</td>\n",
       "      <td>0.197912</td>\n",
       "      <td>0.0</td>\n",
       "    </tr>\n",
       "    <tr>\n",
       "      <th>std</th>\n",
       "      <td>3.868046</td>\n",
       "      <td>120.045939</td>\n",
       "      <td>2.218727</td>\n",
       "      <td>3.044779</td>\n",
       "      <td>102.204959</td>\n",
       "      <td>105.388652</td>\n",
       "      <td>880.582345</td>\n",
       "      <td>102.186392</td>\n",
       "      <td>775.712798</td>\n",
       "      <td>0.454103</td>\n",
       "      <td>29.400164</td>\n",
       "      <td>102.086768</td>\n",
       "      <td>0.235036</td>\n",
       "      <td>0.0</td>\n",
       "    </tr>\n",
       "    <tr>\n",
       "      <th>min</th>\n",
       "      <td>3.000000</td>\n",
       "      <td>400.000000</td>\n",
       "      <td>6.000000</td>\n",
       "      <td>1.000000</td>\n",
       "      <td>82.000000</td>\n",
       "      <td>82.000000</td>\n",
       "      <td>0.080000</td>\n",
       "      <td>82.000000</td>\n",
       "      <td>0.010000</td>\n",
       "      <td>0.000000</td>\n",
       "      <td>0.000000</td>\n",
       "      <td>82.000000</td>\n",
       "      <td>0.011000</td>\n",
       "      <td>0.0</td>\n",
       "    </tr>\n",
       "    <tr>\n",
       "      <th>25%</th>\n",
       "      <td>3.000000</td>\n",
       "      <td>400.000000</td>\n",
       "      <td>8.000000</td>\n",
       "      <td>2.000000</td>\n",
       "      <td>206.000000</td>\n",
       "      <td>206.000000</td>\n",
       "      <td>1.020000</td>\n",
       "      <td>206.000000</td>\n",
       "      <td>0.090000</td>\n",
       "      <td>0.000000</td>\n",
       "      <td>0.000000</td>\n",
       "      <td>206.000000</td>\n",
       "      <td>0.047000</td>\n",
       "      <td>0.0</td>\n",
       "    </tr>\n",
       "    <tr>\n",
       "      <th>50%</th>\n",
       "      <td>5.000000</td>\n",
       "      <td>500.000000</td>\n",
       "      <td>9.000000</td>\n",
       "      <td>5.000000</td>\n",
       "      <td>271.000000</td>\n",
       "      <td>272.000000</td>\n",
       "      <td>3.842000</td>\n",
       "      <td>271.000000</td>\n",
       "      <td>1.170000</td>\n",
       "      <td>0.000000</td>\n",
       "      <td>2.000000</td>\n",
       "      <td>271.000000</td>\n",
       "      <td>0.116000</td>\n",
       "      <td>0.0</td>\n",
       "    </tr>\n",
       "    <tr>\n",
       "      <th>75%</th>\n",
       "      <td>10.000000</td>\n",
       "      <td>600.000000</td>\n",
       "      <td>10.000000</td>\n",
       "      <td>8.000000</td>\n",
       "      <td>338.000000</td>\n",
       "      <td>338.000000</td>\n",
       "      <td>20.808000</td>\n",
       "      <td>337.000000</td>\n",
       "      <td>20.569000</td>\n",
       "      <td>0.000000</td>\n",
       "      <td>6.000000</td>\n",
       "      <td>338.000000</td>\n",
       "      <td>0.260000</td>\n",
       "      <td>0.0</td>\n",
       "    </tr>\n",
       "    <tr>\n",
       "      <th>max</th>\n",
       "      <td>20.000000</td>\n",
       "      <td>1000.000000</td>\n",
       "      <td>19.000000</td>\n",
       "      <td>10.000000</td>\n",
       "      <td>658.000000</td>\n",
       "      <td>658.000000</td>\n",
       "      <td>3600.000000</td>\n",
       "      <td>658.000000</td>\n",
       "      <td>3600.000000</td>\n",
       "      <td>5.000000</td>\n",
       "      <td>255.000000</td>\n",
       "      <td>658.000000</td>\n",
       "      <td>1.562000</td>\n",
       "      <td>0.0</td>\n",
       "    </tr>\n",
       "  </tbody>\n",
       "</table>\n",
       "</div>"
      ],
      "text/plain": [
       "               F1           F2          F3         Rep    MODEL_OF  MODEL_OFUB   MODEL_TIME      CBC_OF     CBC_TIME      CBC_FC      CBC_PC   NEWCBC_OF  NEWCBC_TIME  NEWCBC_FC\n",
       "count  400.000000   400.000000  400.000000  400.000000  400.000000  400.000000   400.000000  400.000000   400.000000  400.000000  400.000000  400.000000   400.000000      400.0\n",
       "mean     6.775000   525.000000    9.567500    5.050000  281.907500  284.177500   293.390935  281.862500   254.806183    0.082500    9.747500  281.810000     0.197912        0.0\n",
       "std      3.868046   120.045939    2.218727    3.044779  102.204959  105.388652   880.582345  102.186392   775.712798    0.454103   29.400164  102.086768     0.235036        0.0\n",
       "min      3.000000   400.000000    6.000000    1.000000   82.000000   82.000000     0.080000   82.000000     0.010000    0.000000    0.000000   82.000000     0.011000        0.0\n",
       "25%      3.000000   400.000000    8.000000    2.000000  206.000000  206.000000     1.020000  206.000000     0.090000    0.000000    0.000000  206.000000     0.047000        0.0\n",
       "50%      5.000000   500.000000    9.000000    5.000000  271.000000  272.000000     3.842000  271.000000     1.170000    0.000000    2.000000  271.000000     0.116000        0.0\n",
       "75%     10.000000   600.000000   10.000000    8.000000  338.000000  338.000000    20.808000  337.000000    20.569000    0.000000    6.000000  338.000000     0.260000        0.0\n",
       "max     20.000000  1000.000000   19.000000   10.000000  658.000000  658.000000  3600.000000  658.000000  3600.000000    5.000000  255.000000  658.000000     1.562000        0.0"
      ]
     },
     "execution_count": 7,
     "metadata": {},
     "output_type": "execute_result"
    }
   ],
   "source": [
    "df.describe()"
   ]
  },
  {
   "cell_type": "markdown",
   "metadata": {
    "id": "AJmFT-Upk3yE"
   },
   "source": [
    "Let's see the distribution of the features variables by plotting them in a box plot."
   ]
  },
  {
   "cell_type": "code",
   "execution_count": 39,
   "metadata": {
    "colab": {
     "base_uri": "https://localhost:8080/",
     "height": 334
    },
    "id": "cjSFqHE_hlLe",
    "outputId": "bb5118c1-89cc-4a8d-b28d-2dbb2e11023c",
    "scrolled": true
   },
   "outputs": [
    {
     "data": {
      "image/png": "[encoded data removed]",
      "text/plain": [
       "<Figure size 1152x360 with 4 Axes>"
      ]
     },
     "metadata": {},
     "output_type": "display_data"
    }
   ],
   "source": [
    "fig, axes = plt.subplots(ncols=4, figsize=(16, 5))\n",
    "fig.set_facecolor('white')\n",
    "\n",
    "df['F1'].plot.box(ax=plt.subplot(1, 4, 1))\n",
    "plt.title(\"F1\")\n",
    "df['F2'].plot.box(ax=plt.subplot(1, 4, 2))\n",
    "plt.title(\"F2\")\n",
    "df['F3'].plot.box(ax=plt.subplot(1, 4, 3))\n",
    "plt.title(\"F3\")\n",
    "df['F4'].value_counts().plot.bar(ax=plt.subplot(1, 4, 4))\n",
    "plt.title(\"F4\")\n",
    "\n",
    "plt.show()"
   ]
  },
  {
   "cell_type": "markdown",
   "metadata": {},
   "source": [
    "We can also plot the distribution of TIME and OF for each algorithm on a histogram."
   ]
  },
  {
   "cell_type": "code",
   "execution_count": 40,
   "metadata": {
    "colab": {
     "base_uri": "https://localhost:8080/",
     "height": 932
    },
    "id": "7nWTFAG9lgVs",
    "outputId": "719d007b-0b8e-4ba9-914a-d3217dfb734d"
   },
   "outputs": [
    {
     "data": {
      "image/png": "[encoded data removed]",
      "text/plain": [
       "<Figure size 1152x576 with 6 Axes>"
      ]
     },
     "metadata": {},
     "output_type": "display_data"
    }
   ],
   "source": [
    "fig, axes = plt.subplots(nrows=2, ncols=3, figsize=(16, 8))\n",
    "\n",
    "df['MODEL_TIME'].hist(ax=plt.subplot(2, 3, 1))\n",
    "plt.xlabel('Model_Time')\n",
    "plt.ylabel('Frequency')\n",
    "\n",
    "df['MODEL_OF'].hist(ax=plt.subplot(2, 3, 4)) \n",
    "plt.xlabel('Model_OF')\n",
    "plt.ylabel('Frequency')\n",
    "\n",
    "df['CBC_TIME'].hist(ax=plt.subplot(2, 3, 2)) \n",
    "plt.xlabel('CBC_Time')\n",
    "plt.ylabel('Frequency')\n",
    "\n",
    "df['CBC_OF'].hist(ax=plt.subplot(2, 3, 5)) \n",
    "plt.xlabel('CBC_OF')\n",
    "plt.ylabel('Frequency')\n",
    "\n",
    "df['NEWCBC_TIME'].hist(ax=plt.subplot(2, 3, 3)) \n",
    "plt.xlabel('NEWCBC_Time')\n",
    "plt.ylabel('Frequency')\n",
    "\n",
    "df['NEWCBC_OF'].hist(ax=plt.subplot(2, 3, 6)) \n",
    "plt.xlabel('NEWCBC_OF')\n",
    "plt.ylabel('Frequency')\n",
    "\n",
    "plt.show()"
   ]
  },
  {
   "cell_type": "markdown",
   "metadata": {},
   "source": [
    "## Comparing algorithms effectiveness (OF value)\n",
    "\n",
    "First of all, let's check if the distribution of MODEL_OF, CBC_OF and NEWCBC_OF is normal using Shapiro-Wilk test for normality. The Shapiro-Wilk test tests the null hypothesis that the data was drawn from a normal distribution."
   ]
  },
  {
   "cell_type": "code",
   "execution_count": 68,
   "metadata": {},
   "outputs": [
    {
     "name": "stdout",
     "output_type": "stream",
     "text": [
      "MODEL_OF:  ShapiroResult(statistic=0.966986358165741, pvalue=7.543134472598467e-08)\n",
      "CBC_OF:    ShapiroResult(statistic=0.9667572975158691, pvalue=6.89765613515192e-08)\n",
      "NEWCBC_OF: ShapiroResult(statistic=0.9669656753540039, pvalue=7.48233759395589e-08)\n"
     ]
    }
   ],
   "source": [
    "from scipy.stats import shapiro\n",
    "\n",
    "print(\"MODEL_OF: \",stats.shapiro(df['MODEL_OF'].to_numpy()))\n",
    "print(\"CBC_OF:   \",stats.shapiro(df['CBC_OF'].to_numpy()))\n",
    "print(\"NEWCBC_OF:\",stats.shapiro(df['NEWCBC_OF'].to_numpy()))"
   ]
  },
  {
   "cell_type": "markdown",
   "metadata": {},
   "source": [
    "The null hypothesis is rejected for each algorithm because the p-value is way less than 0.05 or 0.01. This means that the distribution of MODEL_OF, CBC_OF and NEWCBC_OF is not normal. Hence, we need to use a nonparametric test in order to compare the three samples.\n",
    "\n",
    "The Kruskal-Wallis test is a nonparametric statistical procedure for comparing more than two samples that are independent, or not related. The parametric equivalent to this test is the one-way analysis of variance (ANOVA). When the Kruskal-Wallis test leads to significant results, then at least one of the samples is different from the other samples."
   ]
  },
  {
   "cell_type": "code",
   "execution_count": 61,
   "metadata": {},
   "outputs": [
    {
     "data": {
      "text/plain": [
       "KruskalResult(statistic=0.00013436269145136718, pvalue=0.9999328209108904)"
      ]
     },
     "execution_count": 61,
     "metadata": {},
     "output_type": "execute_result"
    }
   ],
   "source": [
    "from scipy.stats import kruskal\n",
    "\n",
    "stats.kruskal(df['MODEL_OF'].to_numpy(), df['CBC_OF'].to_numpy(), df['NEWCBC_OF'].to_numpy())"
   ]
  },
  {
   "cell_type": "markdown",
   "metadata": {},
   "source": [
    "We can't reject the null hypothesis that the population median of all of the algorithms are equal because we have a p-value of about 1, so we can say that the three groups have the same median."
   ]
  },
  {
   "cell_type": "markdown",
   "metadata": {},
   "source": [
    "## Comparing algorithms efficiency (TIME value)"
   ]
  },
  {
   "cell_type": "markdown",
   "metadata": {},
   "source": [
    "As we can see in the histograms above the distribution of TIME values in each algorithm is clearly not normal. This means that we must again use a non parametric test to compare samples. We use the Kruskal-Wallis test again."
   ]
  },
  {
   "cell_type": "code",
   "execution_count": 64,
   "metadata": {},
   "outputs": [
    {
     "data": {
      "text/plain": [
       "KruskalResult(statistic=435.6336411937821, pvalue=2.531376529390946e-95)"
      ]
     },
     "execution_count": 64,
     "metadata": {},
     "output_type": "execute_result"
    }
   ],
   "source": [
    "stats.kruskal(df['MODEL_TIME'].to_numpy(), df['CBC_TIME'].to_numpy(), df['NEWCBC_TIME'].to_numpy())"
   ]
  },
  {
   "cell_type": "markdown",
   "metadata": {},
   "source": [
    "The test result is significant, then at least one of the samples is different from the other samples. However, the test does not identify where the difference(s) occur. Moreover, it does not identify how many differences occur. To identify the particular differences between sample pairs we will use the Mann-Whitney test (a.k.a. Wilcoxon rank-sum test) in order to perform sample contrasts between individual sample sets. The null hypothesis of this test asserts that the medians of the two samples are identical. "
   ]
  },
  {
   "cell_type": "code",
   "execution_count": 75,
   "metadata": {},
   "outputs": [
    {
     "name": "stdout",
     "output_type": "stream",
     "text": [
      "MODEL_TIME - CBC_TIME:    MannwhitneyuResult(statistic=60608.0, pvalue=1.4763561231062497e-09)\n",
      "MODEL_TIME - NEWCBC_TIME: MannwhitneyuResult(statistic=7874.0, pvalue=3.043885928956426e-108)\n",
      "CBC_TIME - NEWCBC_TIME:   MannwhitneyuResult(statistic=41702.0, pvalue=5.058484003020759e-32)\n"
     ]
    }
   ],
   "source": [
    "from scipy.stats import mannwhitneyu\n",
    "\n",
    "print(\"MODEL_TIME - CBC_TIME:   \",mannwhitneyu(df['MODEL_TIME'].to_numpy(), df['CBC_TIME'].to_numpy()))\n",
    "print(\"MODEL_TIME - NEWCBC_TIME:\",mannwhitneyu(df['MODEL_TIME'].to_numpy(), df['NEWCBC_TIME'].to_numpy()))\n",
    "print(\"CBC_TIME - NEWCBC_TIME:  \",mannwhitneyu(df['CBC_TIME'].to_numpy(), df['NEWCBC_TIME'].to_numpy()))"
   ]
  },
  {
   "cell_type": "markdown",
   "metadata": {},
   "source": [
    "All the three tests make us reject the null hypothesis, this means that the medians of the three samples are all different. Then, we can compare the three algorithms' efficiency by just comparing their median."
   ]
  },
  {
   "cell_type": "code",
   "execution_count": 83,
   "metadata": {},
   "outputs": [
    {
     "name": "stdout",
     "output_type": "stream",
     "text": [
      "MODEL_TIME median:  3.842\n",
      "CBC_TIME median:    1.17\n",
      "NEWCBC_TIME median: 0.116\n"
     ]
    }
   ],
   "source": [
    "print(\"MODEL_TIME median: \",df['MODEL_TIME'].median())\n",
    "print(\"CBC_TIME median:   \",df['CBC_TIME'].median())\n",
    "print(\"NEWCBC_TIME median:\",df['NEWCBC_TIME'].median())"
   ]
  },
  {
   "cell_type": "markdown",
   "metadata": {},
   "source": [
    "Since NEWCBC is the algorithm with the smallest median time, we can say that it's the most efficient algorithm."
   ]
  },
  {
   "cell_type": "markdown",
   "metadata": {},
   "source": [
    "## Studying the correlation between features and values"
   ]
  },
  {
   "cell_type": "code",
   "execution_count": 38,
   "metadata": {},
   "outputs": [
    {
     "data": {
      "text/plain": [
       "<AxesSubplot:>"
      ]
     },
     "execution_count": 38,
     "metadata": {},
     "output_type": "execute_result"
    },
    {
     "data": {
      "image/png": "[encoded data removed]",
      "text/plain": [
       "<Figure size 1152x576 with 2 Axes>"
      ]
     },
     "metadata": {
      "needs_background": "light"
     },
     "output_type": "display_data"
    }
   ],
   "source": [
    "corr = df.corr().to_pandas().drop([\"NEWCBC_FC\", \"Rep\"]).drop(columns=[\"NEWCBC_FC\", \"Rep\"])\n",
    "f, ax = plt.subplots(figsize=(16, 8))\n",
    "mask = np.triu(np.ones_like(corr, dtype=bool))\n",
    "cmap = sns.diverging_palette(230, 20, as_cmap=True)\n",
    "sns.heatmap(corr, mask=mask, cmap=cmap, annot=True, linewidths=.5, cbar_kws={\"shrink\": .5})"
   ]
  },
  {
   "cell_type": "markdown",
   "metadata": {},
   "source": [
    "As we can see from the correlation matrix above, we notice that CBC_OF, NEWCBC_OF and MODEL_OF are perfectly correlated, and that the TIME values of the three algorithms are highly correlated as well.\n",
    "\n",
    "We also see that F1 has a great impact (that is, it's highly correlated) on NEWCBC_TIME (the execution time of the NEWCBC algorithm).\n",
    "\n",
    "F1 doesn't seem to be correlated with the other features, while F2 is highly correlated with the value of F3."
   ]
  },
  {
   "cell_type": "code",
   "execution_count": null,
   "metadata": {},
   "outputs": [],
   "source": []
  }
 ],
 "metadata": {
  "colab": {
   "collapsed_sections": [],
   "name": "Data Analytics Challenge with Apache Spark",
   "provenance": [],
   "toc_visible": true
  },
  "kernelspec": {
   "display_name": "Python 3",
   "language": "python",
   "name": "python3"
  },
  "language_info": {
   "codemirror_mode": {
    "name": "ipython",
    "version": 3
   },
   "file_extension": ".py",
   "mimetype": "text/x-python",
   "name": "python",
   "nbconvert_exporter": "python",
   "pygments_lexer": "ipython3",
   "version": "3.8.6"
  }
 },
 "nbformat": 4,
 "nbformat_minor": 1
}
